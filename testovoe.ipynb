{
 "cells": [
  {
   "cell_type": "code",
   "execution_count": 3,
   "id": "83c84b89",
   "metadata": {},
   "outputs": [],
   "source": [
    "import numpy as np\n",
    "import pandas as pd\n",
    "import scipy.stats as st\n",
    "import matplotlib.pyplot as plt"
   ]
  },
  {
   "cell_type": "markdown",
   "id": "d53e5d50",
   "metadata": {},
   "source": [
    "## Задание\n",
    "\n",
    "### Есть 2 группы студентов одна из которых ходила на подготовительные курсы, другая нет.\n",
    "### Нужно понять повлияло ли посещение курсов на балл студентов между группами."
   ]
  },
  {
   "cell_type": "code",
   "execution_count": 4,
   "id": "c96a4755",
   "metadata": {},
   "outputs": [],
   "source": [
    "student_after_score = pd.read_csv('E:/Downloads/student_after_score.csv')\n",
    "student_before_score = pd.read_csv('E:/Downloads/student_before_score.csv')\n",
    "student_group = pd.read_csv('E:/Downloads/student_group.csv')\n"
   ]
  },
  {
   "cell_type": "code",
   "execution_count": 10,
   "id": "23831254",
   "metadata": {},
   "outputs": [
    {
     "name": "stdout",
     "output_type": "stream",
     "text": [
      "   student_id  after_score\n",
      "0           1           92\n",
      "1           2           79\n",
      "2           3           92\n",
      "3           4           90\n",
      "4           5           98\n",
      "\n",
      "   student_id  before_score\n",
      "0           1            75\n",
      "1           2            81\n",
      "2           3            58\n",
      "3           4            47\n",
      "4           5            76\n",
      "\n",
      "   student_id      group\n",
      "0           1  no_course\n",
      "1           2     course\n",
      "2           3     course\n",
      "3           4     course\n",
      "4           5     course\n",
      "\n"
     ]
    }
   ],
   "source": [
    "for i in [student_after_score, student_before_score, student_group]: print(i.head(), end='\\n\\n')"
   ]
  },
  {
   "cell_type": "code",
   "execution_count": 9,
   "id": "89f5e241",
   "metadata": {},
   "outputs": [
    {
     "data": {
      "text/html": [
       "<div>\n",
       "<style scoped>\n",
       "    .dataframe tbody tr th:only-of-type {\n",
       "        vertical-align: middle;\n",
       "    }\n",
       "\n",
       "    .dataframe tbody tr th {\n",
       "        vertical-align: top;\n",
       "    }\n",
       "\n",
       "    .dataframe thead th {\n",
       "        text-align: right;\n",
       "    }\n",
       "</style>\n",
       "<table border=\"1\" class=\"dataframe\">\n",
       "  <thead>\n",
       "    <tr style=\"text-align: right;\">\n",
       "      <th></th>\n",
       "      <th>student_id</th>\n",
       "      <th>after_score</th>\n",
       "      <th>before_score</th>\n",
       "    </tr>\n",
       "  </thead>\n",
       "  <tbody>\n",
       "    <tr>\n",
       "      <th>count</th>\n",
       "      <td>2000.000000</td>\n",
       "      <td>1000.000000</td>\n",
       "      <td>1000.00000</td>\n",
       "    </tr>\n",
       "    <tr>\n",
       "      <th>mean</th>\n",
       "      <td>500.500000</td>\n",
       "      <td>84.623000</td>\n",
       "      <td>63.92500</td>\n",
       "    </tr>\n",
       "    <tr>\n",
       "      <th>std</th>\n",
       "      <td>288.747186</td>\n",
       "      <td>8.641154</td>\n",
       "      <td>14.59851</td>\n",
       "    </tr>\n",
       "    <tr>\n",
       "      <th>min</th>\n",
       "      <td>1.000000</td>\n",
       "      <td>70.000000</td>\n",
       "      <td>40.00000</td>\n",
       "    </tr>\n",
       "    <tr>\n",
       "      <th>25%</th>\n",
       "      <td>250.750000</td>\n",
       "      <td>77.000000</td>\n",
       "      <td>51.00000</td>\n",
       "    </tr>\n",
       "    <tr>\n",
       "      <th>50%</th>\n",
       "      <td>500.500000</td>\n",
       "      <td>85.000000</td>\n",
       "      <td>64.00000</td>\n",
       "    </tr>\n",
       "    <tr>\n",
       "      <th>75%</th>\n",
       "      <td>750.250000</td>\n",
       "      <td>92.000000</td>\n",
       "      <td>77.00000</td>\n",
       "    </tr>\n",
       "    <tr>\n",
       "      <th>max</th>\n",
       "      <td>1000.000000</td>\n",
       "      <td>99.000000</td>\n",
       "      <td>89.00000</td>\n",
       "    </tr>\n",
       "  </tbody>\n",
       "</table>\n",
       "</div>"
      ],
      "text/plain": [
       "        student_id  after_score  before_score\n",
       "count  2000.000000  1000.000000    1000.00000\n",
       "mean    500.500000    84.623000      63.92500\n",
       "std     288.747186     8.641154      14.59851\n",
       "min       1.000000    70.000000      40.00000\n",
       "25%     250.750000    77.000000      51.00000\n",
       "50%     500.500000    85.000000      64.00000\n",
       "75%     750.250000    92.000000      77.00000\n",
       "max    1000.000000    99.000000      89.00000"
      ]
     },
     "execution_count": 9,
     "metadata": {},
     "output_type": "execute_result"
    }
   ],
   "source": [
    "pd.concat([student_after_score, student_before_score]).describe()"
   ]
  },
  {
   "cell_type": "markdown",
   "id": "869d59f9",
   "metadata": {},
   "source": [
    "### Различие групп достаточно видимое, проверим количество тех, кто был на курсах, а кто нет."
   ]
  },
  {
   "cell_type": "code",
   "execution_count": 40,
   "id": "54f65b37",
   "metadata": {},
   "outputs": [
    {
     "data": {
      "text/plain": [
       "no_course    512.0\n",
       "course       488.0\n",
       "Name: group, dtype: float64"
      ]
     },
     "execution_count": 40,
     "metadata": {},
     "output_type": "execute_result"
    }
   ],
   "source": [
    "student_group.group.value_counts(normalize=True).mul(1000)"
   ]
  },
  {
   "cell_type": "code",
   "execution_count": 35,
   "id": "d5327ebd",
   "metadata": {},
   "outputs": [
    {
     "data": {
      "text/plain": [
       "(488, 2)"
      ]
     },
     "execution_count": 35,
     "metadata": {},
     "output_type": "execute_result"
    }
   ],
   "source": [
    "student_group.query('group == \"course\"').shape"
   ]
  },
  {
   "cell_type": "markdown",
   "id": "b63db3f7",
   "metadata": {},
   "source": [
    "### Выберем тех кто ходил и объединим группы с помощью merge по столбцу student_id"
   ]
  },
  {
   "cell_type": "code",
   "execution_count": 46,
   "id": "bf4ba6bd",
   "metadata": {},
   "outputs": [
    {
     "data": {
      "text/html": [
       "<div>\n",
       "<style scoped>\n",
       "    .dataframe tbody tr th:only-of-type {\n",
       "        vertical-align: middle;\n",
       "    }\n",
       "\n",
       "    .dataframe tbody tr th {\n",
       "        vertical-align: top;\n",
       "    }\n",
       "\n",
       "    .dataframe thead th {\n",
       "        text-align: right;\n",
       "    }\n",
       "</style>\n",
       "<table border=\"1\" class=\"dataframe\">\n",
       "  <thead>\n",
       "    <tr style=\"text-align: right;\">\n",
       "      <th></th>\n",
       "      <th>student_id</th>\n",
       "      <th>group</th>\n",
       "      <th>after_score</th>\n",
       "      <th>before_score</th>\n",
       "    </tr>\n",
       "  </thead>\n",
       "  <tbody>\n",
       "    <tr>\n",
       "      <th>0</th>\n",
       "      <td>2</td>\n",
       "      <td>course</td>\n",
       "      <td>79</td>\n",
       "      <td>81</td>\n",
       "    </tr>\n",
       "    <tr>\n",
       "      <th>1</th>\n",
       "      <td>3</td>\n",
       "      <td>course</td>\n",
       "      <td>92</td>\n",
       "      <td>58</td>\n",
       "    </tr>\n",
       "    <tr>\n",
       "      <th>2</th>\n",
       "      <td>4</td>\n",
       "      <td>course</td>\n",
       "      <td>90</td>\n",
       "      <td>47</td>\n",
       "    </tr>\n",
       "    <tr>\n",
       "      <th>3</th>\n",
       "      <td>5</td>\n",
       "      <td>course</td>\n",
       "      <td>98</td>\n",
       "      <td>76</td>\n",
       "    </tr>\n",
       "    <tr>\n",
       "      <th>4</th>\n",
       "      <td>6</td>\n",
       "      <td>course</td>\n",
       "      <td>76</td>\n",
       "      <td>67</td>\n",
       "    </tr>\n",
       "  </tbody>\n",
       "</table>\n",
       "</div>"
      ],
      "text/plain": [
       "   student_id   group  after_score  before_score\n",
       "0           2  course           79            81\n",
       "1           3  course           92            58\n",
       "2           4  course           90            47\n",
       "3           5  course           98            76\n",
       "4           6  course           76            67"
      ]
     },
     "execution_count": 46,
     "metadata": {},
     "output_type": "execute_result"
    }
   ],
   "source": [
    "merged_groups = student_group.query('group == \"course\"').merge(student_after_score,on='student_id') \\\n",
    "                                                        .merge(student_before_score,on='student_id')\n",
    "merged_groups.head()"
   ]
  },
  {
   "cell_type": "code",
   "execution_count": 50,
   "id": "95a9bb9a",
   "metadata": {},
   "outputs": [
    {
     "data": {
      "text/html": [
       "<div>\n",
       "<style scoped>\n",
       "    .dataframe tbody tr th:only-of-type {\n",
       "        vertical-align: middle;\n",
       "    }\n",
       "\n",
       "    .dataframe tbody tr th {\n",
       "        vertical-align: top;\n",
       "    }\n",
       "\n",
       "    .dataframe thead th {\n",
       "        text-align: right;\n",
       "    }\n",
       "</style>\n",
       "<table border=\"1\" class=\"dataframe\">\n",
       "  <thead>\n",
       "    <tr style=\"text-align: right;\">\n",
       "      <th></th>\n",
       "      <th>student_id</th>\n",
       "      <th>after_score</th>\n",
       "      <th>before_score</th>\n",
       "    </tr>\n",
       "  </thead>\n",
       "  <tbody>\n",
       "    <tr>\n",
       "      <th>count</th>\n",
       "      <td>488.000000</td>\n",
       "      <td>488.000000</td>\n",
       "      <td>488.000000</td>\n",
       "    </tr>\n",
       "    <tr>\n",
       "      <th>mean</th>\n",
       "      <td>484.760246</td>\n",
       "      <td>83.903689</td>\n",
       "      <td>63.301230</td>\n",
       "    </tr>\n",
       "    <tr>\n",
       "      <th>std</th>\n",
       "      <td>291.348817</td>\n",
       "      <td>8.532397</td>\n",
       "      <td>14.625841</td>\n",
       "    </tr>\n",
       "    <tr>\n",
       "      <th>min</th>\n",
       "      <td>2.000000</td>\n",
       "      <td>70.000000</td>\n",
       "      <td>40.000000</td>\n",
       "    </tr>\n",
       "    <tr>\n",
       "      <th>25%</th>\n",
       "      <td>235.750000</td>\n",
       "      <td>76.000000</td>\n",
       "      <td>51.000000</td>\n",
       "    </tr>\n",
       "    <tr>\n",
       "      <th>50%</th>\n",
       "      <td>482.500000</td>\n",
       "      <td>84.000000</td>\n",
       "      <td>63.500000</td>\n",
       "    </tr>\n",
       "    <tr>\n",
       "      <th>75%</th>\n",
       "      <td>743.250000</td>\n",
       "      <td>90.000000</td>\n",
       "      <td>75.000000</td>\n",
       "    </tr>\n",
       "    <tr>\n",
       "      <th>max</th>\n",
       "      <td>1000.000000</td>\n",
       "      <td>99.000000</td>\n",
       "      <td>89.000000</td>\n",
       "    </tr>\n",
       "  </tbody>\n",
       "</table>\n",
       "</div>"
      ],
      "text/plain": [
       "        student_id  after_score  before_score\n",
       "count   488.000000   488.000000    488.000000\n",
       "mean    484.760246    83.903689     63.301230\n",
       "std     291.348817     8.532397     14.625841\n",
       "min       2.000000    70.000000     40.000000\n",
       "25%     235.750000    76.000000     51.000000\n",
       "50%     482.500000    84.000000     63.500000\n",
       "75%     743.250000    90.000000     75.000000\n",
       "max    1000.000000    99.000000     89.000000"
      ]
     },
     "execution_count": 50,
     "metadata": {},
     "output_type": "execute_result"
    }
   ],
   "source": [
    "merged_groups.describe()"
   ]
  },
  {
   "cell_type": "markdown",
   "id": "ab4f5d95",
   "metadata": {},
   "source": [
    "### Различие групп осталось таким же заметным, предположу, что среди тех кто не ходил на курсы различия будут примерно похожи с теми, кто сходил"
   ]
  },
  {
   "cell_type": "markdown",
   "id": "4f03983b",
   "metadata": {},
   "source": [
    "### Теперь проверим нормальность распределений с помощью теста Шапиро-Уилка. Определим для того, чтобы определить какой тест в будущем нужно использовать для проверки на различие между этими выборками"
   ]
  },
  {
   "cell_type": "code",
   "execution_count": 65,
   "id": "2d7c4f04",
   "metadata": {},
   "outputs": [
    {
     "data": {
      "text/plain": [
       "ShapiroResult(statistic=0.9546159505844116, pvalue=4.223854599416654e-11)"
      ]
     },
     "execution_count": 65,
     "metadata": {},
     "output_type": "execute_result"
    }
   ],
   "source": [
    "st.shapiro(merged_groups['after_score'])"
   ]
  },
  {
   "cell_type": "code",
   "execution_count": 73,
   "id": "cd06dc5c",
   "metadata": {},
   "outputs": [
    {
     "data": {
      "text/plain": [
       "ShapiroResult(statistic=0.9492893815040588, pvalue=6.953233128159653e-12)"
      ]
     },
     "execution_count": 73,
     "metadata": {},
     "output_type": "execute_result"
    }
   ],
   "source": [
    "st.shapiro(merged_groups['before_score'])"
   ]
  },
  {
   "cell_type": "markdown",
   "id": "3380599b",
   "metadata": {},
   "source": [
    "### Оба распределения ненормальные потому что pvalue гораздо ниже уровня значимости в 0.05 и мы подтверждаем альтернативную гипотезу, что распределение ненормальное"
   ]
  },
  {
   "cell_type": "markdown",
   "id": "59badfea",
   "metadata": {},
   "source": [
    "### В таком случае используем для проверки тест Манна-Уитни"
   ]
  },
  {
   "cell_type": "markdown",
   "id": "603a7abf",
   "metadata": {},
   "source": [
    "### Баллы это дискретные данные, поэтому учитываем поправку на непрерывность.\n",
    "### И выбираем two-sided  чтобы проверить выборки между собой"
   ]
  },
  {
   "cell_type": "code",
   "execution_count": 80,
   "id": "40998289",
   "metadata": {},
   "outputs": [
    {
     "data": {
      "text/plain": [
       "MannwhitneyuResult(statistic=30407.5, pvalue=3.23053961900692e-90)"
      ]
     },
     "execution_count": 80,
     "metadata": {},
     "output_type": "execute_result"
    }
   ],
   "source": [
    "st.mannwhitneyu(merged_groups.before_score, merged_groups.after_score, True, 'two-sided')"
   ]
  },
  {
   "cell_type": "markdown",
   "id": "ca7b977b",
   "metadata": {},
   "source": [
    "### p-значение меньше уровня значимости в 0.05. Значит, что различие между выборками есть, даже с доверительным интервалом в 99%.\n",
    "### Различие между выборками статистически значимо. А теперь узнаем, где именно различие между выборками статистически значимо через Бутстрэп, выберем среднее и медиану этих групп."
   ]
  },
  {
   "cell_type": "code",
   "execution_count": 115,
   "id": "3f00c923",
   "metadata": {},
   "outputs": [],
   "source": [
    "from scipy.stats import norm\n",
    "def get_bootstrap(\n",
    "    data_column_1, \n",
    "    data_column_2, \n",
    "    boot_it = 1000, \n",
    "    statistic = np.mean, \n",
    "    bootstrap_conf_level = 0.95 \n",
    "):\n",
    "    boot_len = max([len(data_column_1), len(data_column_2)])\n",
    "    boot_data = []\n",
    "    for i in range(boot_it): \n",
    "        samples_1 = data_column_1.sample(\n",
    "            boot_len, \n",
    "            replace = True \n",
    "        ).values\n",
    "        \n",
    "        samples_2 = data_column_2.sample(\n",
    "            boot_len, \n",
    "            replace = True\n",
    "        ).values\n",
    "        \n",
    "        boot_data.append(statistic(samples_1-samples_2)) \n",
    "        \n",
    "    pd_boot_data = pd.DataFrame(boot_data)\n",
    "        \n",
    "    p_1 = norm.cdf(\n",
    "        x = 0, \n",
    "        loc = np.mean(boot_data), \n",
    "        scale = np.std(boot_data)\n",
    "    )\n",
    "    p_2 = norm.cdf(\n",
    "        x = 0, \n",
    "        loc = -np.mean(boot_data), \n",
    "        scale = np.std(boot_data)\n",
    "    )\n",
    "    p_value = min(p_1, p_2) * 2\n",
    "    \n",
    "    return {\"p_value\": p_value}"
   ]
  },
  {
   "cell_type": "code",
   "execution_count": 129,
   "id": "fa2ff362",
   "metadata": {},
   "outputs": [
    {
     "name": "stdout",
     "output_type": "stream",
     "text": [
      "Среднее выборок статистически значимо отличается  {'p_value': 3.625152890514245e-153}\n"
     ]
    }
   ],
   "source": [
    "print(f'Среднее выборок статистически значимо отличается  {get_bootstrap(x, y)}')"
   ]
  },
  {
   "cell_type": "code",
   "execution_count": 127,
   "id": "d64d4b64",
   "metadata": {
    "scrolled": true
   },
   "outputs": [
    {
     "name": "stdout",
     "output_type": "stream",
     "text": [
      "Бутстреп медиана выборок статистически значимо отличается,  {'p_value': 1.9728620218600353e-71}\n"
     ]
    }
   ],
   "source": [
    "x =  merged_groups.before_score \n",
    "y = merged_groups.after_score\n",
    "print(f'Медиана выборок статистически значимо отличается,  {get_bootstrap(x, y, statistic = np.median)}')"
   ]
  },
  {
   "cell_type": "markdown",
   "id": "194a8038",
   "metadata": {},
   "source": [
    "### Помимо общего различия выборок среднее и медиана баллов студентов, которые ходили на курсы тоже статистически значимо отличается."
   ]
  }
 ],
 "metadata": {
  "kernelspec": {
   "display_name": "Python 3 (ipykernel)",
   "language": "python",
   "name": "python3"
  },
  "language_info": {
   "codemirror_mode": {
    "name": "ipython",
    "version": 3
   },
   "file_extension": ".py",
   "mimetype": "text/x-python",
   "name": "python",
   "nbconvert_exporter": "python",
   "pygments_lexer": "ipython3",
   "version": "3.11.2"
  }
 },
 "nbformat": 4,
 "nbformat_minor": 5
}
